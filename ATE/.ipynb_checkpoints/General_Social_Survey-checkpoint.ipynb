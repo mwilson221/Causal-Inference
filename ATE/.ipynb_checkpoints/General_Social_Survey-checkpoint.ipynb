{
 "cells": [
  {
   "cell_type": "code",
   "execution_count": 1,
   "id": "4eb2beb4-30bc-4403-8955-6f4b2e5ef5ef",
   "metadata": {},
   "outputs": [],
   "source": [
    "import pandas as pd\n",
    "import numpy as np\n",
    "from scipy import stats\n",
    "from scipy.stats import norm\n",
    "import statsmodels.api as sm\n",
    "import statsmodels.formula.api as smf\n",
    "import patsy\n",
    "from SyncRNG import SyncRNG\n",
    "import patsy\n",
    "%matplotlib inline\n",
    "import matplotlib\n",
    "import matplotlib.mlab as mlab\n",
    "import matplotlib.pyplot as plt\n",
    "import pyreadr\n",
    "import seaborn as sns\n",
    "import random\n",
    "import string\n",
    "import warnings\n",
    "warnings.filterwarnings('ignore')"
   ]
  },
  {
   "cell_type": "markdown",
   "id": "329eab6a-c9e8-481a-a088-c03f8c5bf086",
   "metadata": {},
   "source": [
    "Data comes from the \"General Social Survey"
   ]
  },
  {
   "cell_type": "code",
   "execution_count": 2,
   "id": "e1a5ad7d-c4fa-452e-993a-63e85d7dca41",
   "metadata": {},
   "outputs": [],
   "source": [
    "# Read in data\n",
    "# data = pd.read_csv( \"https://docs.google.com/uc?id=1kSxrVci_EUcSr_Lg1JKk1l7Xd5I9zfRC&export=download\" )\n",
    "# data.to_pickle(\"gss.pkl\")\n",
    "data = pd.read_pickle(\"gss.pkl\")\n",
    "n = data.shape[0]\n",
    "\n",
    "# Treatment: does the the gov't spend too much on \"welfare\" (1) or \"assistance to the poor\" (0)\n",
    "treatment = \"w\"\n",
    "\n",
    "# Outcome: 1 for 'yes', 0 for 'no'\n",
    "outcome = \"y\"\n",
    "\n",
    "# Additional covariates\n",
    "covariates = [\"age\", \"polviews\", \"income\", \"educ\", \"marital\", \"sex\"]"
   ]
  },
  {
   "cell_type": "code",
   "execution_count": 11,
   "id": "05eba717-3ac2-4afc-ad10-c3ab8a8fe68f",
   "metadata": {},
   "outputs": [],
   "source": [
    "Y = data.loc[:,outcome].copy()\n",
    "W = data.loc[:,treatment].copy()"
   ]
  },
  {
   "cell_type": "code",
   "execution_count": 21,
   "id": "77454ec0-8b8a-412f-986c-9fd1319dcddc",
   "metadata": {},
   "outputs": [],
   "source": [
    "def diff_in_means(Y,W):\n",
    "    #sample means\n",
    "    m1 = Y[W==1].mean()\n",
    "    m0 = Y[W==0].mean()\n",
    "    \n",
    "    #sample variances\n",
    "    s1 = Y[W==1].var()\n",
    "    s0 = Y[W==0].var()\n",
    "    \n",
    "    #sample sizes\n",
    "    n1 = (W==1).sum()\n",
    "    n0 = (W==0).sum()\n",
    "    \n",
    "    ate_est = m1-m0\n",
    "    ate_se = np.sqrt(s1/n1 + s0/n0)\n",
    "    ate_tstat = ate_est/ate_se\n",
    "    ate_pvalue = 2*norm.cdf(1-abs(ate_est/ate_se))\n",
    "    \n",
    "    return pd.DataFrame({'estimate': [ate_est],\n",
    "                        'std_error': [ate_se],\n",
    "                        't_stat': [ate_tstat],\n",
    "                        'pvalue': [ ate_pvalue]})"
   ]
  },
  {
   "cell_type": "code",
   "execution_count": 22,
   "id": "8eee0898-14ad-4ab4-b81a-3277cdbc5e99",
   "metadata": {},
   "outputs": [
    {
     "data": {
      "text/html": [
       "<div>\n",
       "<style scoped>\n",
       "    .dataframe tbody tr th:only-of-type {\n",
       "        vertical-align: middle;\n",
       "    }\n",
       "\n",
       "    .dataframe tbody tr th {\n",
       "        vertical-align: top;\n",
       "    }\n",
       "\n",
       "    .dataframe thead th {\n",
       "        text-align: right;\n",
       "    }\n",
       "</style>\n",
       "<table border=\"1\" class=\"dataframe\">\n",
       "  <thead>\n",
       "    <tr style=\"text-align: right;\">\n",
       "      <th></th>\n",
       "      <th>estimate</th>\n",
       "      <th>std_error</th>\n",
       "      <th>t_stat</th>\n",
       "      <th>pvalue</th>\n",
       "    </tr>\n",
       "  </thead>\n",
       "  <tbody>\n",
       "    <tr>\n",
       "      <th>0</th>\n",
       "      <td>-0.347116</td>\n",
       "      <td>0.004896</td>\n",
       "      <td>-70.903029</td>\n",
       "      <td>0.0</td>\n",
       "    </tr>\n",
       "  </tbody>\n",
       "</table>\n",
       "</div>"
      ],
      "text/plain": [
       "   estimate  std_error     t_stat  pvalue\n",
       "0 -0.347116   0.004896 -70.903029     0.0"
      ]
     },
     "execution_count": 22,
     "metadata": {},
     "output_type": "execute_result"
    }
   ],
   "source": [
    "diff_in_means(Y,W)"
   ]
  },
  {
   "cell_type": "markdown",
   "id": "5621d41c-cebe-4592-99bd-41a2b8320554",
   "metadata": {},
   "source": [
    "This suggests that "
   ]
  }
 ],
 "metadata": {
  "kernelspec": {
   "display_name": "Python 3 (ipykernel)",
   "language": "python",
   "name": "python3"
  },
  "language_info": {
   "codemirror_mode": {
    "name": "ipython",
    "version": 3
   },
   "file_extension": ".py",
   "mimetype": "text/x-python",
   "name": "python",
   "nbconvert_exporter": "python",
   "pygments_lexer": "ipython3",
   "version": "3.9.12"
  }
 },
 "nbformat": 4,
 "nbformat_minor": 5
}
