{
 "cells": [
  {
   "cell_type": "code",
   "execution_count": 1,
   "id": "4eb2beb4-30bc-4403-8955-6f4b2e5ef5ef",
   "metadata": {},
   "outputs": [],
   "source": [
    "import pandas as pd\n",
    "import numpy as np\n",
    "from scipy import stats\n",
    "from scipy.stats import norm\n",
    "import statsmodels.api as sm\n",
    "import statsmodels.formula.api as smf\n",
    "import patsy\n",
    "from SyncRNG import SyncRNG\n",
    "import patsy\n",
    "%matplotlib inline\n",
    "import matplotlib\n",
    "import matplotlib.mlab as mlab\n",
    "import matplotlib.pyplot as plt\n",
    "import pyreadr\n",
    "import seaborn as sns\n",
    "import random\n",
    "import string\n",
    "import warnings\n",
    "warnings.filterwarnings('ignore')"
   ]
  },
  {
   "cell_type": "markdown",
   "id": "329eab6a-c9e8-481a-a088-c03f8c5bf086",
   "metadata": {},
   "source": [
    "This notebook is based on Topic 3 of Susan Athey and Stefan Wager's course “MGTECON 634: Machine Learning and Causal Inference” (https://d2cml-ai.github.io/mgtecon634_py/md/intro.html#)\n",
    "\n",
    "Data comes from the \"General Social Survey\" (https://gss.norc.org/Documents/reports/project-reports/GSSProject%20report32.pdf).\n",
    "\n",
    "__Setting:__ randomized control trial\n",
    "\n",
    "__Treatment (W):__ wording of a question: \"welfare\" (W==1) vs \"assistince to the poor\" (W==0)\n",
    "\n",
    "__Outcome (Y):__ Support (Y==1) or Opposition (Y==0) to question\n",
    "\n",
    "__Covariates (X):__ age, political views, income, education, marital status, sex\n",
    "\n",
    "We seek to test whether the wording of a question has a causal effect on responses. \n"
   ]
  },
  {
   "cell_type": "code",
   "execution_count": 2,
   "id": "e1a5ad7d-c4fa-452e-993a-63e85d7dca41",
   "metadata": {},
   "outputs": [
    {
     "name": "stdout",
     "output_type": "stream",
     "text": [
      "13337 15316 28653\n"
     ]
    }
   ],
   "source": [
    "# Read in data\n",
    "# data = pd.read_csv( \"https://docs.google.com/uc?id=1kSxrVci_EUcSr_Lg1JKk1l7Xd5I9zfRC&export=download\" )\n",
    "# data.to_pickle(\"gss.pkl\")\n",
    "data = pd.read_pickle(\"gss.pkl\")\n",
    "n = data.shape[0]\n",
    "\n",
    "# Treatment: does the the gov't spend too much on \"welfare\" (1) or \"assistance to the poor\" (0)\n",
    "treatment = \"w\"\n",
    "\n",
    "# Outcome: 1 for 'yes', 0 for 'no'\n",
    "outcome = \"y\"\n",
    "\n",
    "# Additional covariates\n",
    "covariates = [\"age\", \"polviews\", \"income\", \"educ\", \"marital\", \"sex\"]\n",
    "\n",
    "\n",
    "Y = data.loc[:,outcome].copy()\n",
    "W = data.loc[:,treatment].copy()\n",
    "X = data.loc[:,covariates].copy()\n",
    "\n",
    "n1 = (W==1).sum()\n",
    "n0 = (W==0).sum()\n",
    "\n",
    "n=n0+n1\n",
    "\n",
    "print(n0,n1,n)"
   ]
  },
  {
   "cell_type": "code",
   "execution_count": 3,
   "id": "77454ec0-8b8a-412f-986c-9fd1319dcddc",
   "metadata": {},
   "outputs": [],
   "source": [
    "def diff_in_means(Y,W):\n",
    "    #sample means\n",
    "    m1 = Y[W==1].mean()\n",
    "    m0 = Y[W==0].mean()\n",
    "    \n",
    "    #sample variances\n",
    "    s1 = Y[W==1].var()\n",
    "    s0 = Y[W==0].var()\n",
    "    \n",
    "    #sample sizes\n",
    "    n1 = (W==1).sum()\n",
    "    n0 = (W==0).sum()\n",
    "    \n",
    "    ate_est = m1-m0\n",
    "    ate_se = np.sqrt(s1/n1 + s0/n0)\n",
    "    ate_tstat = ate_est/ate_se\n",
    "    ate_pvalue = 2*norm.cdf(1-abs(ate_est/ate_se))\n",
    "    \n",
    "    return pd.DataFrame({'estimate': [ate_est],\n",
    "                        'std_error': [ate_se],\n",
    "                        't_stat': [ate_tstat],\n",
    "                        'pvalue': [ ate_pvalue]})"
   ]
  },
  {
   "cell_type": "code",
   "execution_count": 4,
   "id": "8eee0898-14ad-4ab4-b81a-3277cdbc5e99",
   "metadata": {},
   "outputs": [
    {
     "data": {
      "text/html": [
       "<div>\n",
       "<style scoped>\n",
       "    .dataframe tbody tr th:only-of-type {\n",
       "        vertical-align: middle;\n",
       "    }\n",
       "\n",
       "    .dataframe tbody tr th {\n",
       "        vertical-align: top;\n",
       "    }\n",
       "\n",
       "    .dataframe thead th {\n",
       "        text-align: right;\n",
       "    }\n",
       "</style>\n",
       "<table border=\"1\" class=\"dataframe\">\n",
       "  <thead>\n",
       "    <tr style=\"text-align: right;\">\n",
       "      <th></th>\n",
       "      <th>estimate</th>\n",
       "      <th>std_error</th>\n",
       "      <th>t_stat</th>\n",
       "      <th>pvalue</th>\n",
       "    </tr>\n",
       "  </thead>\n",
       "  <tbody>\n",
       "    <tr>\n",
       "      <th>0</th>\n",
       "      <td>-0.347116</td>\n",
       "      <td>0.004896</td>\n",
       "      <td>-70.903029</td>\n",
       "      <td>0.0</td>\n",
       "    </tr>\n",
       "  </tbody>\n",
       "</table>\n",
       "</div>"
      ],
      "text/plain": [
       "   estimate  std_error     t_stat  pvalue\n",
       "0 -0.347116   0.004896 -70.903029     0.0"
      ]
     },
     "execution_count": 4,
     "metadata": {},
     "output_type": "execute_result"
    }
   ],
   "source": [
    "diff_in_means(Y,W)"
   ]
  },
  {
   "cell_type": "markdown",
   "id": "5621d41c-cebe-4592-99bd-41a2b8320554",
   "metadata": {},
   "source": [
    "The difference-in-means estimator for the effect of the treatment is -0.347116. This suggests that individuals presented with the wording \"welfare\" tended to be less supportive than those presented with the wording \"assistance to the poor.\"\n",
    "\n",
    "Because this was a randomized experiment, the results are unconfounded in expectation. So it is reasonable to infer that the change in wording is the cause of this difference. While the results are unconfounded in expectation, that does not mean that the observed effect is unconfounded. While we can never test for confounding with unobserved quantities, we can check for confounding in the observed variables by estimating covariate __balance__. Intuitively, covariate balance corresponds to the \"all else equal\" assumption. If there is a significant difference between the treatment groups, __all else equal__, it is reasonable to infer that the treatment caused the difference. Of course, if all else is not equal, that is, if the covariate distributions are not balanced, we have no way to discern whether it was the treatment or the difference in covariates that caused the observed effect. \n",
    "\n",
    "Here, we directly test for equality of distribution between the two groups using a permutation test based on the 2-sample Energy Statistic. (See: Székely, Gábor J., and Maria L. Rizzo. \"Energy statistics: A class of statistics based on distances.\")\n",
    "\n",
    "For more on balance, with many references, see https://cran.r-project.org/web/packages/cobalt/vignettes/cobalt.html"
   ]
  },
  {
   "cell_type": "code",
   "execution_count": 5,
   "id": "643014d9-d525-49ae-83cc-e35fdb7199c2",
   "metadata": {},
   "outputs": [
    {
     "data": {
      "image/png": "[encoded data removed]",
      "text/plain": [
       "<Figure size 640x480 with 1 Axes>"
      ]
     },
     "metadata": {},
     "output_type": "display_data"
    }
   ],
   "source": [
    "from scipy.spatial.distance import pdist,squareform\n",
    "\n",
    "num_perm=100\n",
    "num_subsample=2000\n",
    "\n",
    "n0_temp = sum(W[:num_subsample]==0)\n",
    "n1_temp=sum(W[:num_subsample]==1)\n",
    "\n",
    "#Calculate Distance matrix (for first 2000 entries)\n",
    "D = squareform(pdist(X[:num_subsample]))\n",
    "\n",
    "#Calculate Observered Energy Distance between samples\n",
    "E_obs = (n0_temp*n1_temp)/(n0_temp+n1_temp) * ( 2*(np.sum(D[W[:num_subsample]==1][:,W[:num_subsample]==0])/(n0_temp*n1_temp)) - (np.sum(D[W[:num_subsample]==0][:,W[:num_subsample]==0])/np.square(n0_temp)) - (np.sum(D[W[:num_subsample]==1][:,W[:num_subsample]==1])/np.square(n1_temp)))\n",
    "\n",
    "E_permutations = np.zeros(num_perm)\n",
    "\n",
    "#Sample from Distribution of Statistic\n",
    "for i in range(num_perm):\n",
    "    permutation = np.random.choice(num_subsample,num_subsample,replace=False)\n",
    "    D_permute = D[permutation][:,permutation]\n",
    "    E_permutations[i] = (n0_temp*n1_temp)/(n0_temp+n1_temp) *  (2*(np.sum(D_permute[W[:num_subsample]==1][:,W[:num_subsample]==0])/(n0_temp*n1_temp)) - (np.sum(D_permute[W[:num_subsample]==0][:,W[:num_subsample]==0])/np.square(n0_temp)) - (np.sum(D_permute[W[:num_subsample]==1][:,W[:num_subsample]==1])/np.square(n1_temp)))\n",
    "\n",
    "plt.hist(E_permutations)\n",
    "plt.axvline(E_obs,c='black')\n",
    "plt.title(\"Energy Distance Permuation Test p-value: \"+str(np.mean(E_obs<=E_permutations)))\n",
    "plt.show()"
   ]
  },
  {
   "cell_type": "markdown",
   "id": "60d42fe0-6f0e-49cd-b9ea-0f59fc03291a",
   "metadata": {},
   "source": [
    "We fail to reject the null hypothesis of equal distributions. \n",
    "\n",
    "It's also pretty clear just from looking at the histograms;"
   ]
  },
  {
   "cell_type": "code",
   "execution_count": 6,
   "id": "8293777a-d3db-4379-ba07-c0a7025fead0",
   "metadata": {},
   "outputs": [
    {
     "data": {
      "image/png": "[encoded data removed]",
      "text/plain": [
       "<Figure size 640x480 with 1 Axes>"
      ]
     },
     "metadata": {},
     "output_type": "display_data"
    },
    {
     "data": {
      "image/png": "[encoded data removed]",
      "text/plain": [
       "<Figure size 640x480 with 1 Axes>"
      ]
     },
     "metadata": {},
     "output_type": "display_data"
    },
    {
     "data": {
      "image/png": "[encoded data removed]",
      "text/plain": [
       "<Figure size 640x480 with 1 Axes>"
      ]
     },
     "metadata": {},
     "output_type": "display_data"
    },
    {
     "data": {
      "image/png": "[encoded data removed]",
      "text/plain": [
       "<Figure size 640x480 with 1 Axes>"
      ]
     },
     "metadata": {},
     "output_type": "display_data"
    },
    {
     "data": {
      "image/png": "[encoded data removed]",
      "text/plain": [
       "<Figure size 640x480 with 1 Axes>"
      ]
     },
     "metadata": {},
     "output_type": "display_data"
    },
    {
     "data": {
      "image/png": "[encoded data removed]",
      "text/plain": [
       "<Figure size 640x480 with 1 Axes>"
      ]
     },
     "metadata": {},
     "output_type": "display_data"
    }
   ],
   "source": [
    "for covariate in covariates:\n",
    "    data[covariate][W==0].hist(density=True, alpha=.5)\n",
    "    data[covariate][W==1].hist(density=True,alpha=.5)\n",
    "    plt.title(covariate)\n",
    "    plt.show()   \n"
   ]
  },
  {
   "cell_type": "markdown",
   "id": "0e755917-d829-46f9-bc11-e8baa5df6280",
   "metadata": {},
   "source": [
    "So far, we have estimated an Average Treatment Effect in the randomized setting. \n",
    "\n",
    "Next, we'll modify the data in order to impose covariate imbalance, and look at methods for estimating causal treatment effects in the non-randomized (observational) setting. "
   ]
  },
  {
   "cell_type": "code",
   "execution_count": 7,
   "id": "8abdf478-269c-4084-81ce-6712bce4e506",
   "metadata": {},
   "outputs": [],
   "source": [
    "# Probabilistically dropping observations in a manner that depends on x\n",
    "\n",
    "# copying old dataset, just in case\n",
    "data_exp = data.copy()\n",
    "data.shape\n",
    "\n",
    "# defining the group that we will be dropped with some high probability\n",
    "grp = ((data.w == 1) & ((data.age > 45) | (data.polviews < 5) )) | \\\n",
    "        ((data.w == 0) &  # if untreated AND\n",
    "        (\n",
    "            (data.age < 45) |   # belongs a younger group OR\n",
    "            (data.polviews > 4)  # more liberal\n",
    "        )) \n",
    "\n",
    "\n",
    "\n",
    "grp.sum()\n",
    "\n",
    "# Individuals in the group above have a small chance of being kept in the sample\n",
    "prob = grp.apply(lambda x: 0.15 if x == True else 0.85 ).tolist()\n",
    "keep_idx = list( map( bool, [ np.random.binomial( 1 , p , data.shape[0] )[0] for p in prob ] )  )\n",
    "\n",
    "# Dropping\n",
    "data = data.loc[ keep_idx , : ].copy()"
   ]
  },
  {
   "cell_type": "code",
   "execution_count": 8,
   "id": "a8724b58-c964-48fb-ac8c-1f76791134f5",
   "metadata": {},
   "outputs": [
    {
     "data": {
      "image/png": "[encoded data removed]",
      "text/plain": [
       "<Figure size 640x480 with 1 Axes>"
      ]
     },
     "metadata": {},
     "output_type": "display_data"
    },
    {
     "data": {
      "image/png": "[encoded data removed]",
      "text/plain": [
       "<Figure size 640x480 with 1 Axes>"
      ]
     },
     "metadata": {},
     "output_type": "display_data"
    },
    {
     "data": {
      "image/png": "[encoded data removed]",
      "text/plain": [
       "<Figure size 640x480 with 1 Axes>"
      ]
     },
     "metadata": {},
     "output_type": "display_data"
    }
   ],
   "source": [
    "X_obs = data.loc[:,covariates].copy()\n",
    "W_obs = data.loc[:,treatment].copy()\n",
    "Y_obs = data.loc[:,outcome].copy()\n",
    "\n",
    "num_perm=100\n",
    "num_subsample=2000\n",
    "\n",
    "n0_temp = sum(W_obs[:num_subsample]==0)\n",
    "n1_temp=sum(W_obs[:num_subsample]==1)\n",
    "\n",
    "#Calculate Distance matrix (for first 2000 entries)\n",
    "D = squareform(pdist(X_obs[:num_subsample]))\n",
    "\n",
    "#Calculate Observered Energy Distance between samples\n",
    "E_obs = (n0_temp*n1_temp)/(n0_temp+n1_temp) * ( 2*(np.sum(D[W_obs[:num_subsample]==1][:,W_obs[:num_subsample]==0])/(n0_temp*n1_temp)) - (np.sum(D[W_obs[:num_subsample]==0][:,W_obs[:num_subsample]==0])/np.square(n0_temp)) - (np.sum(D[W_obs[:num_subsample]==1][:,W_obs[:num_subsample]==1])/np.square(n1_temp)))\n",
    "\n",
    "E_permutations = np.zeros(num_perm)\n",
    "\n",
    "#Sample from Distribution of Statistic\n",
    "for i in range(num_perm):\n",
    "    permutation = np.random.choice(num_subsample,num_subsample,replace=False)\n",
    "    D_permute = D[permutation][:,permutation]\n",
    "    E_permutations[i] = (n0_temp*n1_temp)/(n0_temp+n1_temp) *  (2*(np.sum(D_permute[W_obs[:num_subsample]==1][:,W_obs[:num_subsample]==0])/(n0_temp*n1_temp)) - (np.sum(D_permute[W_obs[:num_subsample]==0][:,W_obs[:num_subsample]==0])/np.square(n0_temp)) - (np.sum(D_permute[W_obs[:num_subsample]==1][:,W_obs[:num_subsample]==1])/np.square(n1_temp)))\n",
    "\n",
    "plt.hist(E_permutations)\n",
    "plt.axvline(E_obs,c='black')\n",
    "plt.title(\"Energy Distance Permuation Test p-value: \"+str(np.mean(E_obs<=E_permutations)))\n",
    "plt.show()\n",
    "\n",
    "for covariate in covariates[:2]:\n",
    "    data[covariate][W==0].hist(density=True, alpha=.5)\n",
    "    data[covariate][W==1].hist(density=True,alpha=.5)\n",
    "    plt.title(covariate)\n",
    "    plt.show()  "
   ]
  },
  {
   "cell_type": "markdown",
   "id": "ae35b792-a61a-4f2e-82bf-80c0aec6f0e0",
   "metadata": {},
   "source": [
    "The covariates are extremely imbalanced, as can be seen clearly in the histograms. \n",
    "\n",
    "Thus, if we were to directly calculate a treatment effect, it would not be reasonable to infer that the observed difference was due to treatment, because \"all else is (not) equal\". The effects of the covariates are __confounded__ with the effect of the treatment.\n",
    "\n",
    "Next, we'll look at methods where, under the __Potential Outcomes__ model, we can still reasonably infer causal effects of treatment. Note, because the original data was a randomized experiment, we can actually check the quality of our estimates."
   ]
  },
  {
   "cell_type": "markdown",
   "id": "5ffdb8e5-dd4d-4283-aaa9-d7749f533818",
   "metadata": {},
   "source": [
    "<font size=\"5\"> Direct Estimation </font>\n",
    "\n",
    "The first approach we'll consider is to directly estimate the unobserved potential outcomes. (Specifically, we use a 'T-learner', as described in [Künzel, Sekhon, Bickel, Yu (2019)](https://arxiv.org/abs/1706.03461))\n",
    "\n",
    "1)\n",
    "Fit a regression model: $E[Y|X,W]$ \n",
    "\n",
    "2)\n",
    "Predict both potential outcomes for each subject using the model: $\\hat{Y}_i(1) = E[Y_i|X_i,1]$ and $\\hat{Y}_i(0) = E[Y_i|X_i,0]$\n",
    "\n",
    "3)\n",
    "Calculate the Treatment effect on the estimated potential outcomes: $\\hat{\\tau}_{DM} = E[\\hat{Y}_i(1) - \\hat{Y}_i(0)]$. \n"
   ]
  },
  {
   "cell_type": "code",
   "execution_count": 9,
   "id": "cc06bd96-9142-4f5d-891f-c066c584accf",
   "metadata": {},
   "outputs": [
    {
     "name": "stdout",
     "output_type": "stream",
     "text": [
      "-0.3482710801458918\n"
     ]
    }
   ],
   "source": [
    "# Do not use! We'll see a better estimator below.\n",
    "\n",
    "# Fitting some model of E[Y|X,W]\n",
    "model = smf.ols(\"y ~ bs(age, df = 3) * w + bs(polviews, df = 3) * w + bs(income, df = 3) * w + bs(educ, df = 3) * w + bs(marital, df = 3) * w + bs(sex, df = 3) * w\", data).fit()\n",
    "data_aux = data.copy()\n",
    "\n",
    "# Predicting E[Y|X,W=w] for w in {0, 1}\n",
    "data_1 = data_aux.copy()\n",
    "data_1.loc[ : , treatment] = 1\n",
    "data_0 = data_aux.copy()\n",
    "data_0.loc[ : , treatment] = 0\n",
    "muhat_treat = model.predict( data_1 ) \n",
    "muhat_ctrl = model.predict( data_0 )\n",
    "\n",
    "# Averaging predictions and taking their difference\n",
    "ate_est = muhat_treat.mean() - muhat_ctrl.mean()\n",
    "print(ate_est)"
   ]
  },
  {
   "cell_type": "markdown",
   "id": "4d6088d0-9755-4e8e-91df-bea0f3d91317",
   "metadata": {},
   "source": [
    "<font size=\"5\"> Inverse Propensity Weighted Estimation </font>\n",
    "\n",
    "Next, we'll consider the Inverse Propensity Weight Estimator\n",
    "\n",
    "\n",
    "1)\n",
    "Estimate Propensity scores $\\hat{e}(X_i)$ by regressing $W_i$ on $X_i$\n",
    "\n",
    "2)\n",
    "Compute IPW Estimator: $\\hat{\\tau}_{IPW} = E[Y_i \\ \\hat{e}(X_i)^{-1}|W_i =1] - E[Y_i \\ (1 - \\hat{e}(X_i))^{-1}|W_i =0]$. \n",
    "\n",
    "\n",
    "##TODO: Provide some intuition for IPW\n"
   ]
  },
  {
   "cell_type": "code",
   "execution_count": 10,
   "id": "d44cb8c0-0e01-4ddc-ba65-916b1a88008a",
   "metadata": {},
   "outputs": [],
   "source": [
    "#Code\n",
    "from sklearn.linear_model import LogisticRegressionCV\n",
    "\n",
    "fmla = \"bs(age, df = 3) + bs(polviews, df = 3) + bs(income, df = 3) +  bs(educ, df = 3) + bs(marital, df = 3) + bs(sex, df = 3)\"\n",
    "W = data.loc[ : ,treatment]\n",
    "Y = data.loc[ : ,outcome]\n",
    "XX = np.asarray( patsy.dmatrix( fmla, data ) )"
   ]
  },
  {
   "cell_type": "code",
   "execution_count": 11,
   "id": "fee6c5e1-c747-4816-9c9c-7e49090268c2",
   "metadata": {},
   "outputs": [],
   "source": [
    "# Available in randomized settings and observational settings with unconfoundedness+overlap\n",
    "\n",
    "# Estimate the propensity score e(X) via logistic regression using splines\n",
    "logit = LogisticRegressionCV( cv= 10, \n",
    "                              penalty = 'l2', \n",
    "                              random_state = 0, \n",
    "                              solver = \"newton-cg\" ).fit(XX, W)\n",
    "\n",
    "prob = logit.predict_proba( XX )\n",
    "\n",
    "e_hat = np.apply_along_axis( np.max , 1 , prob ) "
   ]
  },
  {
   "cell_type": "code",
   "execution_count": 12,
   "id": "2fa4bd5e-5ef5-4166-96c1-148121e58cd8",
   "metadata": {},
   "outputs": [
    {
     "data": {
      "text/plain": [
       "-0.4078474109460456"
      ]
     },
     "execution_count": 12,
     "metadata": {},
     "output_type": "execute_result"
    }
   ],
   "source": [
    "ipw_full = Y/e_hat\n",
    "\n",
    "tau_ipw = np.mean(ipw_full[W==1])-np.mean(ipw_full[W==0])\n",
    "\n",
    "tau_ipw"
   ]
  },
  {
   "cell_type": "markdown",
   "id": "d4f981f0-62e1-4908-bbcf-452913c74986",
   "metadata": {},
   "source": [
    "<font size=\"5\"> Augmented Inverse Propensity Weights <font>\n",
    "    \n",
    "Finally, we combine the two estimators. ~Double Robustness\n",
    "    \n",
    "    \n",
    "$\\hat{\\tau}_{AIPW} :=  \\frac{1}{n}\\sum_{i=1}^n (\\hat{\\mu}_1(X_i) - \\hat{\\mu}_0(X_i))$ \n",
    "    \n",
    "$\\ \\ \\ \\ \\ \\ \\ \\ \\ \\ \\ \\ \\ \\ \\ \\ \\ \\ \\ \\ \\ \\ \\ \\ + \\frac{W_i}{\\hat{e}(X_i)} (Y_i - \\hat{\\mu}_1(X_i)) - \\frac{(1 - W_i)}{(1 - \\hat{e}(X_i))} (Y_i - \\hat{\\mu}_0(X_i))$"
   ]
  },
  {
   "cell_type": "code",
   "execution_count": 13,
   "id": "33486fbf-2f70-4754-9b12-94e26886264a",
   "metadata": {},
   "outputs": [
    {
     "data": {
      "text/html": [
       "<style>#sk-container-id-1 {color: black;background-color: white;}#sk-container-id-1 pre{padding: 0;}#sk-container-id-1 div.sk-toggleable {background-color: white;}#sk-container-id-1 label.sk-toggleable__label {cursor: pointer;display: block;width: 100%;margin-bottom: 0;padding: 0.3em;box-sizing: border-box;text-align: center;}#sk-container-id-1 label.sk-toggleable__label-arrow:before {content: \"▸\";float: left;margin-right: 0.25em;color: #696969;}#sk-container-id-1 label.sk-toggleable__label-arrow:hover:before {color: black;}#sk-container-id-1 div.sk-estimator:hover label.sk-toggleable__label-arrow:before {color: black;}#sk-container-id-1 div.sk-toggleable__content {max-height: 0;max-width: 0;overflow: hidden;text-align: left;background-color: #f0f8ff;}#sk-container-id-1 div.sk-toggleable__content pre {margin: 0.2em;color: black;border-radius: 0.25em;background-color: #f0f8ff;}#sk-container-id-1 input.sk-toggleable__control:checked~div.sk-toggleable__content {max-height: 200px;max-width: 100%;overflow: auto;}#sk-container-id-1 input.sk-toggleable__control:checked~label.sk-toggleable__label-arrow:before {content: \"▾\";}#sk-container-id-1 div.sk-estimator input.sk-toggleable__control:checked~label.sk-toggleable__label {background-color: #d4ebff;}#sk-container-id-1 div.sk-label input.sk-toggleable__control:checked~label.sk-toggleable__label {background-color: #d4ebff;}#sk-container-id-1 input.sk-hidden--visually {border: 0;clip: rect(1px 1px 1px 1px);clip: rect(1px, 1px, 1px, 1px);height: 1px;margin: -1px;overflow: hidden;padding: 0;position: absolute;width: 1px;}#sk-container-id-1 div.sk-estimator {font-family: monospace;background-color: #f0f8ff;border: 1px dotted black;border-radius: 0.25em;box-sizing: border-box;margin-bottom: 0.5em;}#sk-container-id-1 div.sk-estimator:hover {background-color: #d4ebff;}#sk-container-id-1 div.sk-parallel-item::after {content: \"\";width: 100%;border-bottom: 1px solid gray;flex-grow: 1;}#sk-container-id-1 div.sk-label:hover label.sk-toggleable__label {background-color: #d4ebff;}#sk-container-id-1 div.sk-serial::before {content: \"\";position: absolute;border-left: 1px solid gray;box-sizing: border-box;top: 0;bottom: 0;left: 50%;z-index: 0;}#sk-container-id-1 div.sk-serial {display: flex;flex-direction: column;align-items: center;background-color: white;padding-right: 0.2em;padding-left: 0.2em;position: relative;}#sk-container-id-1 div.sk-item {position: relative;z-index: 1;}#sk-container-id-1 div.sk-parallel {display: flex;align-items: stretch;justify-content: center;background-color: white;position: relative;}#sk-container-id-1 div.sk-item::before, #sk-container-id-1 div.sk-parallel-item::before {content: \"\";position: absolute;border-left: 1px solid gray;box-sizing: border-box;top: 0;bottom: 0;left: 50%;z-index: -1;}#sk-container-id-1 div.sk-parallel-item {display: flex;flex-direction: column;z-index: 1;position: relative;background-color: white;}#sk-container-id-1 div.sk-parallel-item:first-child::after {align-self: flex-end;width: 50%;}#sk-container-id-1 div.sk-parallel-item:last-child::after {align-self: flex-start;width: 50%;}#sk-container-id-1 div.sk-parallel-item:only-child::after {width: 0;}#sk-container-id-1 div.sk-dashed-wrapped {border: 1px dashed gray;margin: 0 0.4em 0.5em 0.4em;box-sizing: border-box;padding-bottom: 0.4em;background-color: white;}#sk-container-id-1 div.sk-label label {font-family: monospace;font-weight: bold;display: inline-block;line-height: 1.2em;}#sk-container-id-1 div.sk-label-container {text-align: center;}#sk-container-id-1 div.sk-container {/* jupyter's `normalize.less` sets `[hidden] { display: none; }` but bootstrap.min.css set `[hidden] { display: none !important; }` so we also need the `!important` here to be able to override the default hidden behavior on the sphinx rendered scikit-learn.org. See: https://github.com/scikit-learn/scikit-learn/issues/21755 */display: inline-block !important;position: relative;}#sk-container-id-1 div.sk-text-repr-fallback {display: none;}</style><div id=\"sk-container-id-1\" class=\"sk-top-container\"><div class=\"sk-text-repr-fallback\"><pre>CausalForest(max_depth=50, random_state=123)</pre><b>In a Jupyter environment, please rerun this cell to show the HTML representation or trust the notebook. <br />On GitHub, the HTML representation is unable to render, please try loading this page with nbviewer.org.</b></div><div class=\"sk-container\" hidden><div class=\"sk-item\"><div class=\"sk-estimator sk-toggleable\"><input class=\"sk-toggleable__control sk-hidden--visually\" id=\"sk-estimator-id-1\" type=\"checkbox\" checked><label for=\"sk-estimator-id-1\" class=\"sk-toggleable__label sk-toggleable__label-arrow\">CausalForest</label><div class=\"sk-toggleable__content\"><pre>CausalForest(max_depth=50, random_state=123)</pre></div></div></div></div></div>"
      ],
      "text/plain": [
       "CausalForest(max_depth=50, random_state=123)"
      ]
     },
     "execution_count": 13,
     "metadata": {},
     "output_type": "execute_result"
    }
   ],
   "source": [
    "import econml\n",
    "# Main imports\n",
    "from econml.orf import DMLOrthoForest, DROrthoForest\n",
    "from econml.dml import CausalForestDML\n",
    "from econml.grf import CausalForest\n",
    "from econml.sklearn_extensions.linear_model import WeightedLassoCVWrapper, WeightedLasso, WeightedLassoCV\n",
    "from sklearn.linear_model import MultiTaskLassoCV\n",
    "# Helper imports\n",
    "import numpy as np\n",
    "from itertools import product\n",
    "from sklearn.linear_model import Lasso, LassoCV, LogisticRegression, LogisticRegressionCV\n",
    "import matplotlib.pyplot as plt\n",
    "from sklearn.tree import DecisionTreeRegressor\n",
    "from sklearn.ensemble import RandomForestRegressor\n",
    "from econml.grf import RegressionForest\n",
    "%matplotlib inline\n",
    "import patsy\n",
    "\n",
    "fmla = 'age+polviews+income+educ+marital+sex'\n",
    "desc = patsy.ModelDesc.from_formula(fmla)\n",
    "desc.describe()\n",
    "matrix = patsy.dmatrix(fmla, data, return_type = \"dataframe\")\n",
    "\n",
    "T = data.loc[ : ,\"w\"]\n",
    "Y = data.loc[ : ,\"y\"]\n",
    "X = matrix\n",
    "W = None \n",
    "\n",
    "# Estimate a causal forest.\n",
    "est2 = CausalForest(n_estimators=100, min_samples_leaf=5,\n",
    "                       max_depth=50,\n",
    "                       verbose=0, random_state=123)\n",
    "\n",
    "est2.fit(X, T, Y)\n"
   ]
  },
  {
   "cell_type": "code",
   "execution_count": 14,
   "id": "5d4f77fa-eb60-45cc-85e3-00c5721220e9",
   "metadata": {},
   "outputs": [
    {
     "data": {
      "text/plain": [
       "-0.34398701114843105"
      ]
     },
     "execution_count": 14,
     "metadata": {},
     "output_type": "execute_result"
    }
   ],
   "source": [
    "np.mean(est2.predict(X=X))"
   ]
  },
  {
   "cell_type": "code",
   "execution_count": 15,
   "id": "07c02fc1-4378-4d42-ad47-8391809b59b8",
   "metadata": {},
   "outputs": [
    {
     "name": "stdout",
     "output_type": "stream",
     "text": [
      "-0.35878301141219016\n"
     ]
    }
   ],
   "source": [
    "from sklearn.ensemble import RandomForestClassifier, RandomForestRegressor\n",
    "\n",
    "mean_mdl = RandomForestClassifier(max_depth=50, random_state=123, n_estimators=100)\n",
    "propensity_mdl = LogisticRegressionCV( cv= 10, penalty = 'l2', random_state = 0, solver = \"newton-cg\" )\n",
    "\n",
    "mu_hat_0 = mean_mdl.fit(X[T==0],Y[T==0]).predict(X).flatten()\n",
    "mu_hat_1 = mean_mdl.fit(X[T==1],Y[T==1]).predict(X).flatten()\n",
    "\n",
    "e_hat = propensity_mdl.fit(X, T).predict_proba(X)[:,0]\n",
    "\n",
    "ate_aipw_est = (mu_hat_1 - mu_hat_0) + ((T/e_hat)*(Y-mu_hat_1) - ((1-T)/(1-e_hat))*(Y-mu_hat_0))\n",
    "\n",
    "print(np.mean(ate_aipw_est))"
   ]
  },
  {
   "cell_type": "code",
   "execution_count": 16,
   "id": "3877e794-bd35-45df-949e-642803c34f11",
   "metadata": {},
   "outputs": [],
   "source": [
    "def aipw_est(X,Y,W, mean_mdl, propensity_mdl):\n",
    "    \n",
    "    #learner\n",
    "    mu_hat_0 = mean_mdl.fit(X[W==0],Y[W==0]).predict(X).flatten()\n",
    "    mu_hat_1 = mean_mdl.fit(X[W==1],Y[W==1]).predict(X).flatten()\n",
    "    \n",
    "    #Estimated propensity score function\n",
    "    e_hat = propensity_mdl.fit(X, W).predict_proba(X)[:,0]\n",
    "    \n",
    "    aipw_scores = (mu_hat_1 - mu_hat_0) + ((W/e_hat)*(Y-mu_hat_1) - ((1-W)/(1-e_hat))*(Y-mu_hat_0))\n",
    "    \n",
    "    #Augmented Inverse Propensity Weighted Estimator\n",
    "    ate_aipw_est = np.mean( aipw_scores )\n",
    "    ate_se = np.std(aipw_scores) / np.sqrt(len(aipw_scores))\n",
    "    ate_tstat = ate_est/ate_se\n",
    "    ate_pvalue = 2*norm.cdf(1-abs(ate_est/ate_se))\n",
    "    \n",
    "    return pd.DataFrame({'estimate': [ate_aipw_est],\n",
    "                        'std_error': [ate_se],\n",
    "                        't_stat': [ate_tstat],\n",
    "                        'pvalue': [ ate_pvalue]})"
   ]
  },
  {
   "cell_type": "code",
   "execution_count": 17,
   "id": "45d0ff0f-5904-4172-8014-5a07fedf0b1b",
   "metadata": {},
   "outputs": [],
   "source": [
    "ate_aipw_est = aipw_est(X, Y, T, mean_mdl, propensity_mdl)"
   ]
  },
  {
   "cell_type": "code",
   "execution_count": 18,
   "id": "8c7bba72-9faa-4d75-a0f7-033e977f6b37",
   "metadata": {},
   "outputs": [
    {
     "data": {
      "text/html": [
       "<div>\n",
       "<style scoped>\n",
       "    .dataframe tbody tr th:only-of-type {\n",
       "        vertical-align: middle;\n",
       "    }\n",
       "\n",
       "    .dataframe tbody tr th {\n",
       "        vertical-align: top;\n",
       "    }\n",
       "\n",
       "    .dataframe thead th {\n",
       "        text-align: right;\n",
       "    }\n",
       "</style>\n",
       "<table border=\"1\" class=\"dataframe\">\n",
       "  <thead>\n",
       "    <tr style=\"text-align: right;\">\n",
       "      <th></th>\n",
       "      <th>estimate</th>\n",
       "      <th>std_error</th>\n",
       "      <th>t_stat</th>\n",
       "      <th>pvalue</th>\n",
       "    </tr>\n",
       "  </thead>\n",
       "  <tbody>\n",
       "    <tr>\n",
       "      <th>0</th>\n",
       "      <td>-0.358783</td>\n",
       "      <td>0.008964</td>\n",
       "      <td>-38.850488</td>\n",
       "      <td>0.0</td>\n",
       "    </tr>\n",
       "  </tbody>\n",
       "</table>\n",
       "</div>"
      ],
      "text/plain": [
       "   estimate  std_error     t_stat  pvalue\n",
       "0 -0.358783   0.008964 -38.850488     0.0"
      ]
     },
     "execution_count": 18,
     "metadata": {},
     "output_type": "execute_result"
    }
   ],
   "source": [
    "ate_aipw_est"
   ]
  },
  {
   "cell_type": "markdown",
   "id": "b9c118c6-bec7-4a5c-be87-f0204f026991",
   "metadata": {},
   "source": [
    "<font size='5'> Treatment Effect Estimation under Domain Shift with Optimal Transport<font>"
   ]
  },
  {
   "cell_type": "code",
   "execution_count": 19,
   "id": "dbc369d2-07d7-4a6c-b37e-481f1fd5f63a",
   "metadata": {},
   "outputs": [],
   "source": [
    "import ot\n",
    "\n",
    "class ot_potential_outcome_estimator:\n",
    "    \n",
    "    def __init__(self):\n",
    "        pass\n",
    "        \n",
    "    def fit(self,X,Y,W):\n",
    "        X0 = X[W==0].copy().values\n",
    "        X1 = X[W==1].copy().values\n",
    "\n",
    "        Y0 = Y[W==0].copy().values\n",
    "        Y1 = Y[W==1].copy().values\n",
    "        \n",
    "        n0 = sum(W==0)\n",
    "        n1 = sum(W==1)\n",
    "\n",
    "        a = np.ones(n0)/n0\n",
    "        b = np.ones(n1)/n1\n",
    "\n",
    "        M = ot.dist(X0,X1)\n",
    "\n",
    "        Pi = ot.emd(a,b,M)\n",
    "\n",
    "        self.mu_1_hat = np.diag(1/a)@(Pi@Y1)\n",
    "        self.mu_0_hat = np.diag(1/b)@(Pi.T@Y0)"
   ]
  },
  {
   "cell_type": "code",
   "execution_count": 20,
   "id": "77621378-bc7e-41e0-8505-c41222f2d339",
   "metadata": {},
   "outputs": [],
   "source": [
    "# Reset data\n",
    "data = pd.read_pickle(\"gss.pkl\")\n",
    "\n",
    "Y = data.loc[:,outcome].copy()\n",
    "W = data.loc[:,treatment].copy()\n",
    "X = data.loc[:,covariates].copy()\n"
   ]
  },
  {
   "cell_type": "markdown",
   "id": "249c0296-af7e-478c-aee2-29924e3fc1ff",
   "metadata": {},
   "source": [
    "Here, we translate the "
   ]
  },
  {
   "cell_type": "code",
   "execution_count": 21,
   "id": "5836bc81-434a-493c-ac72-9991566aa900",
   "metadata": {},
   "outputs": [
    {
     "name": "stdout",
     "output_type": "stream",
     "text": [
      "-0.3471155447921709\n",
      "-0.3471155447921709\n"
     ]
    }
   ],
   "source": [
    "X[W==1]=X[W==1]+(np.random.rand(6)-.5)*1\n",
    "\n",
    "ot_mean_model = ot_potential_outcome_estimator()\n",
    "ot_mean_model.fit(X,Y,W)\n",
    "\n",
    "mu_0_hat,mu_1_hat = ot_mean_model.mu_0_hat,ot_mean_model.mu_1_hat\n",
    "\n",
    "print(np.mean(Y[W==1]-mu_0_hat))\n",
    "print(np.mean(mu_1_hat-Y[W==0]))"
   ]
  },
  {
   "cell_type": "code",
   "execution_count": 22,
   "id": "0bfb72a8-6ecc-404f-852a-33dea9b8aad5",
   "metadata": {},
   "outputs": [
    {
     "data": {
      "text/html": [
       "<div>\n",
       "<style scoped>\n",
       "    .dataframe tbody tr th:only-of-type {\n",
       "        vertical-align: middle;\n",
       "    }\n",
       "\n",
       "    .dataframe tbody tr th {\n",
       "        vertical-align: top;\n",
       "    }\n",
       "\n",
       "    .dataframe thead th {\n",
       "        text-align: right;\n",
       "    }\n",
       "</style>\n",
       "<table border=\"1\" class=\"dataframe\">\n",
       "  <thead>\n",
       "    <tr style=\"text-align: right;\">\n",
       "      <th></th>\n",
       "      <th>estimate</th>\n",
       "      <th>std_error</th>\n",
       "      <th>t_stat</th>\n",
       "      <th>pvalue</th>\n",
       "    </tr>\n",
       "  </thead>\n",
       "  <tbody>\n",
       "    <tr>\n",
       "      <th>0</th>\n",
       "      <td>-0.33157</td>\n",
       "      <td>0.004001</td>\n",
       "      <td>-87.055322</td>\n",
       "      <td>0.0</td>\n",
       "    </tr>\n",
       "  </tbody>\n",
       "</table>\n",
       "</div>"
      ],
      "text/plain": [
       "   estimate  std_error     t_stat  pvalue\n",
       "0  -0.33157   0.004001 -87.055322     0.0"
      ]
     },
     "execution_count": 22,
     "metadata": {},
     "output_type": "execute_result"
    }
   ],
   "source": [
    "aipw_est(X,Y,W,mean_mdl,propensity_mdl)"
   ]
  }
 ],
 "metadata": {
  "kernelspec": {
   "display_name": "gpu_compute_env",
   "language": "python",
   "name": "gpu_compute_env"
  },
  "language_info": {
   "codemirror_mode": {
    "name": "ipython",
    "version": 3
   },
   "file_extension": ".py",
   "mimetype": "text/x-python",
   "name": "python",
   "nbconvert_exporter": "python",
   "pygments_lexer": "ipython3",
   "version": "3.11.4"
  }
 },
 "nbformat": 4,
 "nbformat_minor": 5
}
